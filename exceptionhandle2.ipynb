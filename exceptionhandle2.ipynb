{
 "cells": [
  {
   "cell_type": "markdown",
   "id": "c68c994e-b646-44a3-9e4e-051e5dcbee75",
   "metadata": {},
   "source": [
    "Q1. Explain why we have to use the Exception class while creating a Custom Exception."
   ]
  },
  {
   "cell_type": "code",
   "execution_count": null,
   "id": "5a1af242-3aca-40ca-aba5-f0de67a545b9",
   "metadata": {},
   "outputs": [],
   "source": [
    "Ans:-When creating a custom exception in Python, it is recommended to derive the custom exception class \n",
    "      from the built-in Exception class or one of its subclasses. \n",
    "        i.Standardization\n",
    "         ii.Exception handling feature"
   ]
  },
  {
   "cell_type": "markdown",
   "id": "7ede8628-3126-4823-a995-b8c4af90e19a",
   "metadata": {},
   "source": [
    "Q2. Write a python program to print Python Exception Hierarchy."
   ]
  },
  {
   "cell_type": "code",
   "execution_count": 1,
   "id": "8ab433c0-1822-4cc2-a060-f9a4ada3bcc2",
   "metadata": {},
   "outputs": [
    {
     "name": "stdout",
     "output_type": "stream",
     "text": [
      "BaseException\n",
      "  object\n"
     ]
    }
   ],
   "source": [
    "def print_exception_hierarchy(exception_class, level=0):\n",
    "    indent = '  ' * level\n",
    "    print(f\"{indent}{exception_class.__name__}\")\n",
    "    \n",
    "    if exception_class.__bases__:\n",
    "        for base_class in exception_class.__bases__:\n",
    "            print_exception_hierarchy(base_class, level + 1)\n",
    "\n",
    "\n",
    "# Print the Exception Hierarchy\n",
    "print_exception_hierarchy(BaseException)"
   ]
  },
  {
   "cell_type": "markdown",
   "id": "d49fc466-64d9-4b73-8310-962ddf61c962",
   "metadata": {},
   "source": [
    "Q3. What errors are defined in the ArithmeticError class? Explain any two with an example."
   ]
  },
  {
   "cell_type": "code",
   "execution_count": null,
   "id": "764618df-f187-4d59-a678-6d5e25d534cb",
   "metadata": {},
   "outputs": [],
   "source": [
    "Ans:-The ArithmeticError class is a base class for arithmetic-related errors in Python."
   ]
  },
  {
   "cell_type": "markdown",
   "id": "a883c05c-d368-46fa-97ee-9c1a22277637",
   "metadata": {},
   "source": [
    "ZeroDivisionError: This error occurs when attempting to divide a number by zero.\n",
    "\n",
    "Example:-"
   ]
  },
  {
   "cell_type": "code",
   "execution_count": 3,
   "id": "114ec4a4-4194-4869-8337-9c5bc14aed4f",
   "metadata": {},
   "outputs": [
    {
     "name": "stdout",
     "output_type": "stream",
     "text": [
      "Error: Cannot divide by zero\n"
     ]
    }
   ],
   "source": [
    "try:\n",
    "    result = 10 / 0\n",
    "except ZeroDivisionError:\n",
    "    print(\"Error: Cannot divide by zero\")"
   ]
  },
  {
   "cell_type": "code",
   "execution_count": null,
   "id": "f9fddb0b-4c5c-4423-90d8-abb2e49f3a86",
   "metadata": {},
   "outputs": [],
   "source": [
    "OverflowError:-\n",
    "           This error occurs when the result of an arithmetic operation exceeds the range of representable values."
   ]
  },
  {
   "cell_type": "code",
   "execution_count": 13,
   "id": "e98c6406-3dcc-472b-a637-cf409073c217",
   "metadata": {},
   "outputs": [],
   "source": [
    "import sys\n",
    "try:\n",
    "    large_number = sys.maxsize + 1\n",
    "except OverflowError:\n",
    "    print(\"Error: Overflow occurred\")"
   ]
  },
  {
   "cell_type": "markdown",
   "id": "7cec3934-5b3a-4b23-a776-2452812d0c3c",
   "metadata": {},
   "source": [
    "Q4. Why LookupError class is used? Explain with an example KeyError and IndexError."
   ]
  },
  {
   "cell_type": "code",
   "execution_count": null,
   "id": "de71c46b-127a-4f46-91b1-51211b12b54a",
   "metadata": {},
   "outputs": [],
   "source": [
    "Ans:-The LookupError class is a base class for lookup-related errors in Python. "
   ]
  },
  {
   "cell_type": "code",
   "execution_count": null,
   "id": "d4ab37b5-1551-4547-ba05-7bcf0fdd7619",
   "metadata": {},
   "outputs": [],
   "source": [
    "KeyError: \n",
    "      This error occurs when a dictionary is accessed using a key that does not exist in the dictionary."
   ]
  },
  {
   "cell_type": "code",
   "execution_count": 11,
   "id": "77f802c6-723c-4934-86dc-741ff4247ee2",
   "metadata": {},
   "outputs": [
    {
     "name": "stdout",
     "output_type": "stream",
     "text": [
      "Error: Key not found\n"
     ]
    }
   ],
   "source": [
    "student_grades = {\"John\": 85, \"FAF\": 92, \"ABD\": 78}\n",
    "\n",
    "try:\n",
    "    grade = student_grades[\"David\"]\n",
    "except KeyError:\n",
    "    print(\"Error: Key not found\")"
   ]
  },
  {
   "cell_type": "code",
   "execution_count": null,
   "id": "2d1fa8ba-2706-4922-96b0-309aa097d14e",
   "metadata": {},
   "outputs": [],
   "source": [
    "IndexError: \n",
    "    This error occurs when attempting to access an invalid index of a sequence (such as a list or a string)."
   ]
  },
  {
   "cell_type": "code",
   "execution_count": 12,
   "id": "729ed03c-1c64-4d4d-a268-fd5d85dde84e",
   "metadata": {},
   "outputs": [
    {
     "name": "stdout",
     "output_type": "stream",
     "text": [
      "Error: Invalid index\n"
     ]
    }
   ],
   "source": [
    "numbers = [1, 2, 3, 4, 5]\n",
    "\n",
    "try:\n",
    "    value = numbers[10]\n",
    "except IndexError:\n",
    "    print(\"Error: Invalid index\")"
   ]
  },
  {
   "cell_type": "markdown",
   "id": "dfc5ea04-b8bf-422c-ae0e-b8655a016067",
   "metadata": {},
   "source": [
    "Q5. Explain ImportError. What is ModuleNotFoundError?"
   ]
  },
  {
   "cell_type": "code",
   "execution_count": null,
   "id": "aaa5eda4-ab7b-47c9-9609-d85d026d6d1d",
   "metadata": {},
   "outputs": [],
   "source": [
    "Ans:-ImportError is an exception class in Python that is raised\n",
    "      when an imported module or package cannot be found or imported successfully. \n",
    "    \n",
    "    ModuleNotFoundError is a subclass of ImportError that specifically indicates that the requested module."
   ]
  },
  {
   "cell_type": "markdown",
   "id": "06ff3405-5901-4efc-974b-27bf01c41f41",
   "metadata": {},
   "source": [
    "Q6. List down some best practices for exception handling in python."
   ]
  },
  {
   "cell_type": "code",
   "execution_count": null,
   "id": "03e08530-fbad-48b3-9ff6-aa4ed5624dc8",
   "metadata": {},
   "outputs": [],
   "source": [
    "Ans:-\n",
    "      i.Be specific in handling\n",
    "       ii.Use multiple except block\n",
    "         iii.Use finally block for cleanup\n",
    "            iv.Provide meaningful error messages"
   ]
  }
 ],
 "metadata": {
  "kernelspec": {
   "display_name": "Python 3 (ipykernel)",
   "language": "python",
   "name": "python3"
  },
  "language_info": {
   "codemirror_mode": {
    "name": "ipython",
    "version": 3
   },
   "file_extension": ".py",
   "mimetype": "text/x-python",
   "name": "python",
   "nbconvert_exporter": "python",
   "pygments_lexer": "ipython3",
   "version": "3.10.8"
  }
 },
 "nbformat": 4,
 "nbformat_minor": 5
}
